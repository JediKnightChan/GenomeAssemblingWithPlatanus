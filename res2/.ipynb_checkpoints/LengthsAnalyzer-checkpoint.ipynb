{
 "cells": [
  {
   "cell_type": "code",
   "execution_count": 11,
   "id": "98c2aaec",
   "metadata": {},
   "outputs": [],
   "source": [
    "import pandas as pd"
   ]
  },
  {
   "cell_type": "code",
   "execution_count": 20,
   "id": "d371da73",
   "metadata": {},
   "outputs": [],
   "source": [
    "import matplotlib.pyplot as plt"
   ]
  },
  {
   "cell_type": "code",
   "execution_count": 8,
   "id": "2d21f9ea",
   "metadata": {},
   "outputs": [],
   "source": [
    "import seaborn as sns\n",
    "sns.set_theme()"
   ]
  },
  {
   "cell_type": "markdown",
   "id": "fe3f47df",
   "metadata": {},
   "source": [
    "## Contigs"
   ]
  },
  {
   "cell_type": "code",
   "execution_count": 36,
   "id": "393e6ab2",
   "metadata": {},
   "outputs": [],
   "source": [
    "from Bio import SeqIO\n",
    "\n",
    "def get_n_50(contig_lengths):\n",
    "    total_length = sum(contig_lengths)\n",
    "    contig_lengths = sorted(contig_lengths, reverse=True)\n",
    "    cum_len = 0\n",
    "    for l in contig_lengths:\n",
    "        cum_len += l\n",
    "        if cum_len / total_length >= 0.5:\n",
    "            return l\n",
    "        \n",
    "def analyze_lengths(contig_lengths):\n",
    "    plt.hist(contig_lengths)\n",
    "    print(\"Amount:\", len(contig_lengths))\n",
    "    print(\"Total length:\", sum(contig_lengths))\n",
    "    print(\"Max length\", max(contig_lengths))\n",
    "    print(\"N50\", get_n_50(contig_lengths))"
   ]
  },
  {
   "cell_type": "code",
   "execution_count": 37,
   "id": "014c64e2",
   "metadata": {},
   "outputs": [
    {
     "name": "stdout",
     "output_type": "stream",
     "text": [
      "Amount: 485\n",
      "Total length: 3920930\n",
      "Max length 304925\n",
      "N50 115057\n"
     ]
    },
    {
     "data": {
      "image/png": "[encoded data removed]",
      "text/plain": [
       "<Figure size 640x480 with 1 Axes>"
      ]
     },
     "metadata": {},
     "output_type": "display_data"
    }
   ],
   "source": [
    "contig_lengths = []\n",
    "with open(\"platanus_contig.fa\") as input_handle:\n",
    "    for record in SeqIO.parse(input_handle, \"fasta\"):\n",
    "        contig_lengths.append(len(record))\n",
    "analyze_lengths(contig_lengths)"
   ]
  },
  {
   "cell_type": "markdown",
   "id": "a3fc4968",
   "metadata": {},
   "source": [
    "## Scaffolds"
   ]
  },
  {
   "cell_type": "code",
   "execution_count": 42,
   "id": "63143e13",
   "metadata": {},
   "outputs": [
    {
     "name": "stdout",
     "output_type": "stream",
     "text": [
      "Amount: 82\n",
      "Total length: 3876568\n",
      "Max length 3834520\n",
      "N50 3834520\n"
     ]
    },
    {
     "data": {
      "image/png": "[encoded data removed]",
      "text/plain": [
       "<Figure size 640x480 with 1 Axes>"
      ]
     },
     "metadata": {},
     "output_type": "display_data"
    }
   ],
   "source": [
    "scaffold_objs_to_lengths = {}\n",
    "with open(\"platanus_scaffold.fa\") as input_handle:\n",
    "    for record in SeqIO.parse(input_handle, \"fasta\"):\n",
    "        scaffold_objs_to_lengths[record.seq] = len(record)\n",
    "analyze_lengths(list(scaffold_objs_to_lengths.values()))"
   ]
  },
  {
   "cell_type": "markdown",
   "id": "1f7f4ba3",
   "metadata": {},
   "source": [
    "## Gaps in largest scaffold"
   ]
  },
  {
   "cell_type": "code",
   "execution_count": 43,
   "id": "304cdab8",
   "metadata": {},
   "outputs": [],
   "source": [
    "largest_scaffold = \"\"\n",
    "for seq, length in scaffold_objs_to_lengths.items():\n",
    "    if length == max(list(scaffold_objs_to_lengths.values())):\n",
    "        largest_scaffold = seq"
   ]
  },
  {
   "cell_type": "code",
   "execution_count": 49,
   "id": "967e9926",
   "metadata": {},
   "outputs": [],
   "source": [
    "def analyze_scaffold(sequence):\n",
    "    gap_lengths = []\n",
    "    \n",
    "    current_gap_length = 0\n",
    "    in_gap = False\n",
    "    for nuc in sequence:\n",
    "        if nuc == \"N\":\n",
    "            if in_gap:\n",
    "                # Continuation of gap\n",
    "                pass\n",
    "            else:\n",
    "                # Just began gap\n",
    "                in_gap = True\n",
    "            current_gap_length += 1\n",
    "        else:\n",
    "            if in_gap:\n",
    "                # End of gap\n",
    "                gap_lengths.append(current_gap_length)\n",
    "                current_gap_length = 0\n",
    "                in_gap = False\n",
    "    return gap_lengths"
   ]
  },
  {
   "cell_type": "code",
   "execution_count": 52,
   "id": "bc71c5d8",
   "metadata": {},
   "outputs": [],
   "source": [
    "gap_lengths = analyze_scaffold(largest_scaffold)"
   ]
  },
  {
   "cell_type": "code",
   "execution_count": 57,
   "id": "4dea6f64",
   "metadata": {},
   "outputs": [
    {
     "name": "stdout",
     "output_type": "stream",
     "text": [
      "Amount of gaps: 46, total length: 5910\n"
     ]
    }
   ],
   "source": [
    "print(f\"Amount of gaps: {len(gap_lengths)}, total length: {sum(gap_lengths)}\")"
   ]
  },
  {
   "cell_type": "markdown",
   "id": "ffba26e4",
   "metadata": {},
   "source": [
    "## Closed gaps"
   ]
  },
  {
   "cell_type": "code",
   "execution_count": 63,
   "id": "f2877291",
   "metadata": {},
   "outputs": [],
   "source": [
    "scaffold_objs_to_lengths = {}\n",
    "with open(\"platanus_gapClosed.fa\") as input_handle:\n",
    "    for record in SeqIO.parse(input_handle, \"fasta\"):\n",
    "        scaffold_objs_to_lengths[record.seq] = len(record)\n",
    "largest_scaffold = \"\"\n",
    "for seq, length in scaffold_objs_to_lengths.items():\n",
    "    if length == max(list(scaffold_objs_to_lengths.values())):\n",
    "        largest_scaffold = seq"
   ]
  },
  {
   "cell_type": "code",
   "execution_count": 64,
   "id": "12b73d88",
   "metadata": {},
   "outputs": [
    {
     "name": "stdout",
     "output_type": "stream",
     "text": [
      "Amount of gaps: 8, total length: 1733\n"
     ]
    }
   ],
   "source": [
    "gap_lengths = analyze_scaffold(largest_scaffold)\n",
    "print(f\"Amount of gaps: {len(gap_lengths)}, total length: {sum(gap_lengths)}\")"
   ]
  },
  {
   "cell_type": "code",
   "execution_count": null,
   "id": "43791fef",
   "metadata": {},
   "outputs": [],
   "source": []
  }
 ],
 "metadata": {
  "kernelspec": {
   "display_name": "Python 3 (ipykernel)",
   "language": "python",
   "name": "python3"
  },
  "language_info": {
   "codemirror_mode": {
    "name": "ipython",
    "version": 3
   },
   "file_extension": ".py",
   "mimetype": "text/x-python",
   "name": "python",
   "nbconvert_exporter": "python",
   "pygments_lexer": "ipython3",
   "version": "3.10.4"
  }
 },
 "nbformat": 4,
 "nbformat_minor": 5
}
